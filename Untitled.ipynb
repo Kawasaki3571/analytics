{
 "cells": [
  {
   "cell_type": "code",
   "execution_count": null,
   "metadata": {},
   "outputs": [],
   "source": [
    "import pystan;\n",
    "\n",
    " \n",
    "\n",
    "X = [3, 7, 5]\n",
    "\n",
    "N = 3\n",
    "\n",
    "Data = {'N': N, 'X': X}\n",
    "\n",
    "fit = pystan.stan(file = 'sample.stan', data = Data, seed = 123, n_jobs = 1)\n",
    "\n",
    "print(fit)"
   ]
  }
 ],
 "metadata": {
  "kernelspec": {
   "display_name": "Python 3",
   "language": "python",
   "name": "python3"
  },
  "language_info": {
   "codemirror_mode": {
    "name": "ipython",
    "version": 3
   },
   "file_extension": ".py",
   "mimetype": "text/x-python",
   "name": "python",
   "nbconvert_exporter": "python",
   "pygments_lexer": "ipython3",
   "version": "3.6.10"
  }
 },
 "nbformat": 4,
 "nbformat_minor": 4
}
