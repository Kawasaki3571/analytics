{
 "cells": [
  {
   "cell_type": "code",
   "execution_count": 5,
   "metadata": {},
   "outputs": [
    {
     "name": "stderr",
     "output_type": "stream",
     "text": [
      "INFO:pystan:COMPILING THE C++ CODE FOR MODEL anon_model_9ee95378a1ead4ed55c388e6a71c8532 NOW.\n",
      "WARNING:pystan:80 of 4000 iterations ended with a divergence (2 %).\n",
      "WARNING:pystan:Try running with adapt_delta larger than 0.8 to remove the divergences.\n"
     ]
    },
    {
     "name": "stdout",
     "output_type": "stream",
     "text": [
      "Inference for Stan model: anon_model_9ee95378a1ead4ed55c388e6a71c8532.\n",
      "4 chains, each with iter=2000; warmup=1000; thin=1; \n",
      "post-warmup draws per chain=1000, total post-warmup draws=4000.\n",
      "\n",
      "        mean se_mean     sd   2.5%    25%    50%    75%  97.5%  n_eff   Rhat\n",
      "mu      3.17    1.09  21.22 -34.82   2.85   4.94   6.99  23.22    380   1.01\n",
      "sigma  17.87    3.86  69.13   1.39    3.1   5.05   11.5 120.06    320   1.01\n",
      "lp__   -4.64    0.17   2.03 -10.13  -5.58  -4.03  -3.13  -2.47    149   1.03\n",
      "\n",
      "Samples were drawn using NUTS at Fri Mar 13 21:41:00 2020.\n",
      "For each parameter, n_eff is a crude measure of effective sample size,\n",
      "and Rhat is the potential scale reduction factor on split chains (at \n",
      "convergence, Rhat=1).\n"
     ]
    },
    {
     "name": "stderr",
     "output_type": "stream",
     "text": [
      "/Users/kawasakijun/anaconda3/envs/stan/lib/python3.6/site-packages/ipykernel_launcher.py:27: UserWarning: Pickling fit objects is an experimental feature!\n",
      "The relevant StanModel instance must be pickled along with this fit object.\n",
      "When unpickling the StanModel must be unpickled first.\n"
     ]
    }
   ],
   "source": [
    "import pystan;\n",
    "\n",
    "from pystan import StanModel\n",
    "\n",
    "import pickle\n",
    "\n",
    "X = [3, 7, 5]\n",
    "\n",
    "N = 3\n",
    "\n",
    "Data = {'N': N, 'X': X}\n",
    "\n",
    "sm = StanModel(file = 'sample.stan')\n",
    "\n",
    "with open('model.pkl', 'wb') as f:\n",
    "\n",
    "    pickle.dump(sm, f)\n",
    "\n",
    "fit = sm.sampling(data = Data, seed = 123, n_jobs = 1)\n",
    "\n",
    "with open('fit.pkl', 'wb') as g:\n",
    "\n",
    "    pickle.dump(fit, g)\n",
    "\n",
    "print(fit)"
   ]
  },
  {
   "cell_type": "code",
   "execution_count": 6,
   "metadata": {},
   "outputs": [
    {
     "name": "stderr",
     "output_type": "stream",
     "text": [
      "INFO:pystan:COMPILING THE C++ CODE FOR MODEL anon_model_9ee95378a1ead4ed55c388e6a71c8532 NOW.\n"
     ]
    }
   ],
   "source": [
    "sm = StanModel(file = 'sample.stan')\n",
    "with open('model.pkl', 'wb') as f:\n",
    "    pickle.dump(sm, f)"
   ]
  },
  {
   "cell_type": "code",
   "execution_count": 7,
   "metadata": {},
   "outputs": [
    {
     "name": "stderr",
     "output_type": "stream",
     "text": [
      "WARNING:pystan:80 of 4000 iterations ended with a divergence (2 %).\n",
      "WARNING:pystan:Try running with adapt_delta larger than 0.8 to remove the divergences.\n",
      "/Users/kawasakijun/anaconda3/envs/stan/lib/python3.6/site-packages/ipykernel_launcher.py:3: UserWarning: Pickling fit objects is an experimental feature!\n",
      "The relevant StanModel instance must be pickled along with this fit object.\n",
      "When unpickling the StanModel must be unpickled first.\n",
      "  This is separate from the ipykernel package so we can avoid doing imports until\n"
     ]
    }
   ],
   "source": [
    "fit = sm.sampling(data = Data, seed = 123, n_jobs = 1)\n",
    "with open('fit.pkl', 'wb') as g:\n",
    "    pickle.dump(fit, g)"
   ]
  },
  {
   "cell_type": "code",
   "execution_count": null,
   "metadata": {},
   "outputs": [],
   "source": []
  },
  {
   "cell_type": "code",
   "execution_count": null,
   "metadata": {},
   "outputs": [],
   "source": []
  }
 ],
 "metadata": {
  "kernelspec": {
   "display_name": "Python 3",
   "language": "python",
   "name": "python3"
  },
  "language_info": {
   "codemirror_mode": {
    "name": "ipython",
    "version": 3
   },
   "file_extension": ".py",
   "mimetype": "text/x-python",
   "name": "python",
   "nbconvert_exporter": "python",
   "pygments_lexer": "ipython3",
   "version": "3.6.10"
  }
 },
 "nbformat": 4,
 "nbformat_minor": 4
}
