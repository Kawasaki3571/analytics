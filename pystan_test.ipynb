{
 "cells": [
  {
   "cell_type": "code",
   "execution_count": null,
   "metadata": {},
   "outputs": [],
   "source": []
  },
  {
   "cell_type": "markdown",
   "metadata": {},
   "source": [
    "###### "
   ]
  },
  {
   "cell_type": "markdown",
   "metadata": {},
   "source": [
    "##### "
   ]
  },
  {
   "cell_type": "code",
   "execution_count": null,
   "metadata": {},
   "outputs": [],
   "source": [
    "# うんち!!!"
   ]
  },
  {
   "cell_type": "code",
   "execution_count": 2,
   "metadata": {},
   "outputs": [
    {
     "name": "stderr",
     "output_type": "stream",
     "text": [
      "INFO:matplotlib.font_manager:Could not open font file /System/Library/Fonts/Apple Color Emoji.ttc: In FT2Font: Could not set the fontsize\n",
      "INFO:matplotlib.font_manager:Could not open font file /Library/Fonts/NISC18030.ttf: In FT2Font: Could not set the fontsize\n",
      "INFO:matplotlib.font_manager:generated new fontManager\n",
      "INFO:pystan:COMPILING THE C++ CODE FOR MODEL anon_model_cbe9cd2f1e5ab5d1c7cce1f23ca970b4 NOW.\n"
     ]
    },
    {
     "name": "stdout",
     "output_type": "stream",
     "text": [
      "Inference for Stan model: anon_model_cbe9cd2f1e5ab5d1c7cce1f23ca970b4.\n",
      "4 chains, each with iter=1000; warmup=500; thin=1; \n",
      "post-warmup draws per chain=500, total post-warmup draws=2000.\n",
      "\n",
      "           mean se_mean     sd   2.5%    25%    50%    75%  97.5%  n_eff   Rhat\n",
      "mu          8.0    0.13   5.01  -1.55   4.93    7.9  11.27  17.65   1485    1.0\n",
      "tau        6.71    0.18   5.69   0.29   2.52   5.45    9.2  20.71    957   1.01\n",
      "eta[1]      0.4    0.02   0.97  -1.64  -0.22   0.42   1.02    2.3   2193    1.0\n",
      "eta[2]   2.1e-3    0.02   0.84  -1.67  -0.55 5.8e-3   0.52   1.72   1647    1.0\n",
      "eta[3]     -0.2    0.02   0.95  -2.04  -0.86  -0.22   0.42    1.7   1495    1.0\n",
      "eta[4]    -0.09    0.02   0.86  -1.72  -0.65  -0.08   0.46   1.66   1760    1.0\n",
      "eta[5]    -0.36    0.02   0.87   -2.1  -0.94  -0.39    0.2   1.47   1904    1.0\n",
      "eta[6]    -0.22    0.02   0.91  -1.93  -0.81  -0.25   0.34   1.62   1909    1.0\n",
      "eta[7]     0.36    0.02    0.9  -1.41  -0.24   0.35   0.98   2.11   2149    1.0\n",
      "eta[8]     0.08    0.02   0.96  -1.81  -0.53   0.08   0.69   2.02   1927    1.0\n",
      "theta[1]  11.46    0.22    8.4  -1.99   5.98  10.41  15.47  31.18   1468    1.0\n",
      "theta[2]    7.9    0.13   6.29  -5.03   4.04   7.81  11.69  20.82   2456    1.0\n",
      "theta[3]   6.22    0.18   7.84 -11.54   2.18   6.61  11.01  21.33   1903    1.0\n",
      "theta[4]    7.3    0.14   6.46  -6.17   3.36   7.34  11.43  19.94   2212    1.0\n",
      "theta[5]   5.09    0.13   6.49  -9.38   1.05   5.78   9.32  16.38   2489    1.0\n",
      "theta[6]   6.13    0.16   6.76  -8.63   2.34   6.47  10.44  18.24   1741    1.0\n",
      "theta[7]  10.85    0.15    6.8  -0.66    6.2  10.12  14.64  25.93   2186    1.0\n",
      "theta[8]   8.55    0.18   7.98  -8.01   3.99   8.32  12.86  26.33   2047    1.0\n",
      "lp__      -4.91    0.11   2.69 -10.93  -6.49  -4.63  -3.05   -0.4    622    1.0\n",
      "\n",
      "Samples were drawn using NUTS at Wed Mar 11 00:58:46 2020.\n",
      "For each parameter, n_eff is a crude measure of effective sample size,\n",
      "and Rhat is the potential scale reduction factor on split chains (at \n",
      "convergence, Rhat=1).\n"
     ]
    }
   ],
   "source": [
    "import pystan\n",
    "# import numpy as np\n",
    "# import matplotlib.pyplot as plt\n",
    "%matplotlib inline\n",
    "\n",
    "schools_dat = {'J': 8, 'y': [28,  8, -3,  7, -1,  1, 18, 12],'sigma': [15, 10, 16, 11,  9, 11, 10, 18]}\n",
    "schools_code = \"\"\"\n",
    "data {\n",
    "    int<lower=0> J; // number of schools\n",
    "    real y[J]; // estimated treatment effects\n",
    "    real<lower=0> sigma[J]; // s.e. of effect estimates\n",
    "}\n",
    "parameters {\n",
    "    real mu;\n",
    "    real<lower=0> tau;\n",
    "    real eta[J];\n",
    "}\n",
    "transformed parameters {\n",
    "    real theta[J];\n",
    "    for (j in 1:J)\n",
    "    theta[j] = mu + tau * eta[j];\n",
    "}\n",
    "model {\n",
    "    eta ~ normal(0, 1);\n",
    "    y ~ normal(theta, sigma);\n",
    "}\n",
    "\"\"\"\n",
    "sm = pystan.StanModel(model_code=schools_code)\n",
    "fit = sm.sampling(data=schools_dat, iter=1000, chains=4)\n",
    "print(fit)"
   ]
  }
 ],
 "metadata": {
  "kernelspec": {
   "display_name": "Python 3",
   "language": "python",
   "name": "python3"
  },
  "language_info": {
   "codemirror_mode": {
    "name": "ipython",
    "version": 3
   },
   "file_extension": ".py",
   "mimetype": "text/x-python",
   "name": "python",
   "nbconvert_exporter": "python",
   "pygments_lexer": "ipython3",
   "version": "3.6.10"
  }
 },
 "nbformat": 4,
 "nbformat_minor": 4
}
