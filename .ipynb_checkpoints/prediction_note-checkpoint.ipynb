{
 "cells": [
  {
   "cell_type": "code",
   "execution_count": 1,
   "metadata": {},
   "outputs": [
    {
     "name": "stdout",
     "output_type": "stream",
     "text": [
      "atp_matches_2013.csv atp_matches_2016.csv atp_matches_2019.csv\r\n",
      "atp_matches_2014.csv atp_matches_2017.csv atp_matches_2020.csv\r\n",
      "atp_matches_2015.csv atp_matches_2018.csv\r\n"
     ]
    }
   ],
   "source": [
    "!ls ./datasets\n",
    "import numpy as np # linear algebra\n",
    "import pandas as pd # data processing, CSV file I/O (e.g. pd.read_csv)\n",
    "import os"
   ]
  },
  {
   "cell_type": "code",
   "execution_count": 2,
   "metadata": {},
   "outputs": [],
   "source": [
    "data_2013 = pd.read_csv(\"./datasets/atp_matches_2013.csv\")\n",
    "data_2014 = pd.read_csv(\"./datasets/atp_matches_2014.csv\")\n",
    "data_2015 = pd.read_csv(\"./datasets/atp_matches_2015.csv\")\n",
    "data_2016 = pd.read_csv(\"./datasets/atp_matches_2016.csv\")\n",
    "data_2017 = pd.read_csv(\"./datasets/atp_matches_2017.csv\")\n",
    "data_2018 = pd.read_csv(\"./datasets/atp_matches_2018.csv\")\n",
    "data_2019 = pd.read_csv(\"./datasets/atp_matches_2019.csv\")\n",
    "data_2020 = pd.read_csv(\"./datasets/atp_matches_2020.csv\")\n",
    "data_2013b = data_2013\n",
    "data_2014b = data_2014\n",
    "data_2015b = data_2015\n",
    "data_2016b = data_2016\n",
    "data_2017b = data_2017\n",
    "data_2018b = data_2018\n",
    "data_2019b = data_2019\n",
    "data_2020b = data_2020\n",
    "data_array = [data_2013, data_2014, data_2015, data_2016, data_2017, data_2018, data_2019, data_2020]\n",
    "data_all = pd.concat(data_array)"
   ]
  },
  {
   "cell_type": "code",
   "execution_count": 3,
   "metadata": {},
   "outputs": [
    {
     "name": "stdout",
     "output_type": "stream",
     "text": [
      "tourney_id            False\n",
      "tourney_name          False\n",
      "surface               False\n",
      "draw_size             False\n",
      "tourney_level         False\n",
      "tourney_date          False\n",
      "match_num             False\n",
      "winner_id             False\n",
      "winner_seed            True\n",
      "winner_entry           True\n",
      "winner_name           False\n",
      "winner_hand           False\n",
      "winner_ht              True\n",
      "winner_ioc            False\n",
      "winner_age            False\n",
      "loser_id              False\n",
      "loser_seed             True\n",
      "loser_entry            True\n",
      "loser_name            False\n",
      "loser_hand            False\n",
      "loser_ht               True\n",
      "loser_ioc             False\n",
      "loser_age             False\n",
      "score                 False\n",
      "best_of               False\n",
      "round                 False\n",
      "minutes               False\n",
      "w_ace                  True\n",
      "w_df                   True\n",
      "w_svpt                 True\n",
      "w_1stIn                True\n",
      "w_1stWon               True\n",
      "w_2ndWon               True\n",
      "w_SvGms                True\n",
      "w_bpSaved              True\n",
      "w_bpFaced              True\n",
      "l_ace                  True\n",
      "l_df                   True\n",
      "l_svpt                 True\n",
      "l_1stIn                True\n",
      "l_1stWon               True\n",
      "l_2ndWon               True\n",
      "l_SvGms                True\n",
      "l_bpSaved              True\n",
      "l_bpFaced              True\n",
      "winner_rank            True\n",
      "winner_rank_points     True\n",
      "loser_rank             True\n",
      "loser_rank_points      True\n",
      "dtype: bool Index(['tourney_id', 'tourney_name', 'surface', 'draw_size', 'tourney_level',\n",
      "       'tourney_date', 'match_num', 'winner_id', 'winner_seed', 'winner_entry',\n",
      "       'winner_name', 'winner_hand', 'winner_ht', 'winner_ioc', 'winner_age',\n",
      "       'loser_id', 'loser_seed', 'loser_entry', 'loser_name', 'loser_hand',\n",
      "       'loser_ht', 'loser_ioc', 'loser_age', 'score', 'best_of', 'round',\n",
      "       'minutes', 'w_ace', 'w_df', 'w_svpt', 'w_1stIn', 'w_1stWon', 'w_2ndWon',\n",
      "       'w_SvGms', 'w_bpSaved', 'w_bpFaced', 'l_ace', 'l_df', 'l_svpt',\n",
      "       'l_1stIn', 'l_1stWon', 'l_2ndWon', 'l_SvGms', 'l_bpSaved', 'l_bpFaced',\n",
      "       'winner_rank', 'winner_rank_points', 'loser_rank', 'loser_rank_points'],\n",
      "      dtype='object')\n"
     ]
    }
   ],
   "source": [
    "print(data_2020.isnull().any(), data_2020.columns)"
   ]
  },
  {
   "cell_type": "code",
   "execution_count": 4,
   "metadata": {},
   "outputs": [],
   "source": [
    "needless_columns = ['w_ace', 'w_df', 'w_svpt', 'w_1stIn', 'w_1stWon', 'w_2ndWon',\n",
    "       'w_SvGms', 'w_bpSaved', 'w_bpFaced', 'l_ace', 'l_df', 'l_svpt',\n",
    "       'l_1stIn', 'l_1stWon', 'l_2ndWon', 'l_SvGms', 'l_bpSaved', 'l_bpFaced',\n",
    "       'winner_rank', 'winner_rank_points', 'loser_rank', 'loser_rank_points' ]\n",
    "data_all = data_all.drop(columns = needless_columns, axis=1)"
   ]
  },
  {
   "cell_type": "code",
   "execution_count": 5,
   "metadata": {},
   "outputs": [
    {
     "data": {
      "text/html": [
       "<div>\n",
       "<style scoped>\n",
       "    .dataframe tbody tr th:only-of-type {\n",
       "        vertical-align: middle;\n",
       "    }\n",
       "\n",
       "    .dataframe tbody tr th {\n",
       "        vertical-align: top;\n",
       "    }\n",
       "\n",
       "    .dataframe thead th {\n",
       "        text-align: right;\n",
       "    }\n",
       "</style>\n",
       "<table border=\"1\" class=\"dataframe\">\n",
       "  <thead>\n",
       "    <tr style=\"text-align: right;\">\n",
       "      <th></th>\n",
       "      <th>name</th>\n",
       "      <th>win_count</th>\n",
       "      <th>lose_count</th>\n",
       "      <th>sum</th>\n",
       "      <th>win_rate</th>\n",
       "    </tr>\n",
       "  </thead>\n",
       "  <tbody>\n",
       "    <tr>\n",
       "      <th>0</th>\n",
       "      <td>Abdullah Maqdas</td>\n",
       "      <td>4.0</td>\n",
       "      <td>4.0</td>\n",
       "      <td>8.0</td>\n",
       "      <td>0.500000</td>\n",
       "    </tr>\n",
       "    <tr>\n",
       "      <th>1</th>\n",
       "      <td>Adam Pavlasek</td>\n",
       "      <td>6.0</td>\n",
       "      <td>9.0</td>\n",
       "      <td>15.0</td>\n",
       "      <td>0.400000</td>\n",
       "    </tr>\n",
       "    <tr>\n",
       "      <th>2</th>\n",
       "      <td>Aditya Hari Sasongko</td>\n",
       "      <td>2.0</td>\n",
       "      <td>4.0</td>\n",
       "      <td>6.0</td>\n",
       "      <td>0.333333</td>\n",
       "    </tr>\n",
       "    <tr>\n",
       "      <th>3</th>\n",
       "      <td>Adrian Mannarino</td>\n",
       "      <td>168.0</td>\n",
       "      <td>186.0</td>\n",
       "      <td>354.0</td>\n",
       "      <td>0.474576</td>\n",
       "    </tr>\n",
       "    <tr>\n",
       "      <th>4</th>\n",
       "      <td>Adrian Menendez Maceiras</td>\n",
       "      <td>6.0</td>\n",
       "      <td>17.0</td>\n",
       "      <td>23.0</td>\n",
       "      <td>0.260870</td>\n",
       "    </tr>\n",
       "    <tr>\n",
       "      <th>5</th>\n",
       "      <td>Adrian Ungur</td>\n",
       "      <td>11.0</td>\n",
       "      <td>23.0</td>\n",
       "      <td>34.0</td>\n",
       "      <td>0.323529</td>\n",
       "    </tr>\n",
       "    <tr>\n",
       "      <th>6</th>\n",
       "      <td>Aisam Ul Haq Qureshi</td>\n",
       "      <td>7.0</td>\n",
       "      <td>6.0</td>\n",
       "      <td>13.0</td>\n",
       "      <td>0.538462</td>\n",
       "    </tr>\n",
       "    <tr>\n",
       "      <th>7</th>\n",
       "      <td>Ajeet Rai</td>\n",
       "      <td>1.0</td>\n",
       "      <td>1.0</td>\n",
       "      <td>2.0</td>\n",
       "      <td>0.500000</td>\n",
       "    </tr>\n",
       "    <tr>\n",
       "      <th>8</th>\n",
       "      <td>Akira Santillan</td>\n",
       "      <td>2.0</td>\n",
       "      <td>7.0</td>\n",
       "      <td>9.0</td>\n",
       "      <td>0.222222</td>\n",
       "    </tr>\n",
       "    <tr>\n",
       "      <th>9</th>\n",
       "      <td>Albano Olivetti</td>\n",
       "      <td>3.0</td>\n",
       "      <td>7.0</td>\n",
       "      <td>10.0</td>\n",
       "      <td>0.300000</td>\n",
       "    </tr>\n",
       "    <tr>\n",
       "      <th>10</th>\n",
       "      <td>Albert Montanes</td>\n",
       "      <td>46.0</td>\n",
       "      <td>52.0</td>\n",
       "      <td>98.0</td>\n",
       "      <td>0.469388</td>\n",
       "    </tr>\n",
       "    <tr>\n",
       "      <th>11</th>\n",
       "      <td>Albert Ramos</td>\n",
       "      <td>175.0</td>\n",
       "      <td>186.0</td>\n",
       "      <td>361.0</td>\n",
       "      <td>0.484765</td>\n",
       "    </tr>\n",
       "    <tr>\n",
       "      <th>12</th>\n",
       "      <td>Alberto Lim</td>\n",
       "      <td>3.0</td>\n",
       "      <td>4.0</td>\n",
       "      <td>7.0</td>\n",
       "      <td>0.428571</td>\n",
       "    </tr>\n",
       "    <tr>\n",
       "      <th>13</th>\n",
       "      <td>Aldin Setkic</td>\n",
       "      <td>2.0</td>\n",
       "      <td>3.0</td>\n",
       "      <td>5.0</td>\n",
       "      <td>0.400000</td>\n",
       "    </tr>\n",
       "    <tr>\n",
       "      <th>14</th>\n",
       "      <td>Alejandro Davidovich Fokina</td>\n",
       "      <td>5.0</td>\n",
       "      <td>11.0</td>\n",
       "      <td>16.0</td>\n",
       "      <td>0.312500</td>\n",
       "    </tr>\n",
       "    <tr>\n",
       "      <th>15</th>\n",
       "      <td>Alejandro Falla</td>\n",
       "      <td>34.0</td>\n",
       "      <td>54.0</td>\n",
       "      <td>88.0</td>\n",
       "      <td>0.386364</td>\n",
       "    </tr>\n",
       "    <tr>\n",
       "      <th>16</th>\n",
       "      <td>Alejandro Gomez Gb42</td>\n",
       "      <td>1.0</td>\n",
       "      <td>1.0</td>\n",
       "      <td>2.0</td>\n",
       "      <td>0.500000</td>\n",
       "    </tr>\n",
       "    <tr>\n",
       "      <th>17</th>\n",
       "      <td>Alejandro Gonzalez</td>\n",
       "      <td>18.0</td>\n",
       "      <td>42.0</td>\n",
       "      <td>60.0</td>\n",
       "      <td>0.300000</td>\n",
       "    </tr>\n",
       "    <tr>\n",
       "      <th>18</th>\n",
       "      <td>Alejandro Tabilo</td>\n",
       "      <td>2.0</td>\n",
       "      <td>2.0</td>\n",
       "      <td>4.0</td>\n",
       "      <td>0.500000</td>\n",
       "    </tr>\n",
       "    <tr>\n",
       "      <th>19</th>\n",
       "      <td>Aleksandr Nedovyesov</td>\n",
       "      <td>6.0</td>\n",
       "      <td>25.0</td>\n",
       "      <td>31.0</td>\n",
       "      <td>0.193548</td>\n",
       "    </tr>\n",
       "  </tbody>\n",
       "</table>\n",
       "</div>"
      ],
      "text/plain": [
       "                           name  win_count  lose_count    sum  win_rate\n",
       "0               Abdullah Maqdas        4.0         4.0    8.0  0.500000\n",
       "1                 Adam Pavlasek        6.0         9.0   15.0  0.400000\n",
       "2          Aditya Hari Sasongko        2.0         4.0    6.0  0.333333\n",
       "3              Adrian Mannarino      168.0       186.0  354.0  0.474576\n",
       "4      Adrian Menendez Maceiras        6.0        17.0   23.0  0.260870\n",
       "5                  Adrian Ungur       11.0        23.0   34.0  0.323529\n",
       "6          Aisam Ul Haq Qureshi        7.0         6.0   13.0  0.538462\n",
       "7                     Ajeet Rai        1.0         1.0    2.0  0.500000\n",
       "8               Akira Santillan        2.0         7.0    9.0  0.222222\n",
       "9               Albano Olivetti        3.0         7.0   10.0  0.300000\n",
       "10              Albert Montanes       46.0        52.0   98.0  0.469388\n",
       "11                 Albert Ramos      175.0       186.0  361.0  0.484765\n",
       "12                  Alberto Lim        3.0         4.0    7.0  0.428571\n",
       "13                 Aldin Setkic        2.0         3.0    5.0  0.400000\n",
       "14  Alejandro Davidovich Fokina        5.0        11.0   16.0  0.312500\n",
       "15              Alejandro Falla       34.0        54.0   88.0  0.386364\n",
       "16         Alejandro Gomez Gb42        1.0         1.0    2.0  0.500000\n",
       "17           Alejandro Gonzalez       18.0        42.0   60.0  0.300000\n",
       "18             Alejandro Tabilo        2.0         2.0    4.0  0.500000\n",
       "19         Aleksandr Nedovyesov        6.0        25.0   31.0  0.193548"
      ]
     },
     "execution_count": 5,
     "metadata": {},
     "output_type": "execute_result"
    }
   ],
   "source": [
    "#文献からパクる\n",
    "data_all.columns\n",
    "win_count = data_all.groupby(\"winner_name\")[\"winner_id\"].count().reset_index()\n",
    "win_count.columns=[\"name\",\"win_count\"]\n",
    "lose_count=data_all.groupby(\"loser_name\")[\"loser_id\"].count().reset_index()\n",
    "lose_count.columns=[\"name\",\"lose_count\"]\n",
    "counts=pd.merge(win_count,lose_count,on=\"name\",how=\"outer\")\n",
    "counts=counts.fillna(0)\n",
    "counts[\"sum\"] = counts[\"win_count\"] + counts[\"lose_count\"]\n",
    "counts[\"win_rate\"] = counts[\"win_count\"] / counts[\"sum\"]\n",
    "counts.head(20)"
   ]
  },
  {
   "cell_type": "code",
   "execution_count": 6,
   "metadata": {},
   "outputs": [
    {
     "name": "stdout",
     "output_type": "stream",
     "text": [
      "['Novak Djokovic' 'Rafael Nadal' 'Roberto Bautista Agut' 'Roger Federer'\n",
      " 'Fabio Fognini' 'Dominic Thiem' 'Kei Nishikori' 'Marin Cilic'\n",
      " 'John Isner' 'Grigor Dimitrov' 'David Goffin' 'Stan Wawrinka'\n",
      " 'Gilles Simon' 'Milos Raonic' 'Tomas Berdych' 'Joao Sousa'\n",
      " 'Richard Gasquet' 'Benoit Paire' 'David Ferrer' 'Philipp Kohlschreiber'\n",
      " 'Gael Monfils' 'Fernando Verdasco' 'Andy Murray' 'Kevin Anderson'\n",
      " 'Albert Ramos' 'Feliciano Lopez' 'Adrian Mannarino' 'Jeremy Chardy'\n",
      " 'Andreas Seppi' 'Sam Querrey']\n"
     ]
    }
   ],
   "source": [
    "counts2 = counts[counts[\"sum\"] >= 20]\n",
    "# counts2 = counts2.dorp(columns =\"index\", axis=1)\n",
    "counts2 = counts2.sort_values(by=\"sum\", ascending=False).reset_index()\n",
    "counts2 = counts2.drop(columns =\"index\", axis=1)\n",
    "player_number = 30\n",
    "players = counts2[0 : player_number][\"name\"].unique()\n",
    "print(players)"
   ]
  },
  {
   "cell_type": "code",
   "execution_count": 7,
   "metadata": {},
   "outputs": [
    {
     "data": {
      "text/plain": [
       "{'Novak Djokovic': 1,\n",
       " 'Rafael Nadal': 2,\n",
       " 'Roberto Bautista Agut': 3,\n",
       " 'Roger Federer': 4,\n",
       " 'Fabio Fognini': 5,\n",
       " 'Dominic Thiem': 6,\n",
       " 'Kei Nishikori': 7,\n",
       " 'Marin Cilic': 8,\n",
       " 'John Isner': 9,\n",
       " 'Grigor Dimitrov': 10,\n",
       " 'David Goffin': 11,\n",
       " 'Stan Wawrinka': 12,\n",
       " 'Gilles Simon': 13,\n",
       " 'Milos Raonic': 14,\n",
       " 'Tomas Berdych': 15,\n",
       " 'Joao Sousa': 16,\n",
       " 'Richard Gasquet': 17,\n",
       " 'Benoit Paire': 18,\n",
       " 'David Ferrer': 19,\n",
       " 'Philipp Kohlschreiber': 20,\n",
       " 'Gael Monfils': 21,\n",
       " 'Fernando Verdasco': 22,\n",
       " 'Andy Murray': 23,\n",
       " 'Kevin Anderson': 24,\n",
       " 'Albert Ramos': 25,\n",
       " 'Feliciano Lopez': 26,\n",
       " 'Adrian Mannarino': 27,\n",
       " 'Jeremy Chardy': 28,\n",
       " 'Andreas Seppi': 29,\n",
       " 'Sam Querrey': 30}"
      ]
     },
     "execution_count": 7,
     "metadata": {},
     "output_type": "execute_result"
    }
   ],
   "source": [
    "dic_target_player = {}\n",
    " \n",
    "for player in players:\n",
    "    if player not in dic_target_player:\n",
    "        dic_target_player[player] = len(dic_target_player)+1\n",
    "        \n",
    "dic_target_player"
   ]
  },
  {
   "cell_type": "code",
   "execution_count": 8,
   "metadata": {},
   "outputs": [
    {
     "name": "stdout",
     "output_type": "stream",
     "text": [
      "[[ 2  1]\n",
      " [ 2  1]\n",
      " [ 2  1]\n",
      " ...\n",
      " [30 28]\n",
      " [30 29]\n",
      " [30 29]]\n"
     ]
    }
   ],
   "source": [
    "LW = []\n",
    " \n",
    "for player_a in players:\n",
    "    for player_b in players:\n",
    "        \n",
    "        df_tmp = data_all[\n",
    "            (data_all['winner_name'] == player_a) &\n",
    "            (data_all['loser_name'] == player_b)\n",
    "        ]\n",
    "        for _ in range(len(df_tmp)):\n",
    "            LW.append([dic_target_player[player_b], dic_target_player[player_a]])\n",
    "            \n",
    "        df_tmp = data_all[\n",
    "            (data_all['winner_name'] == player_b) &\n",
    "            (data_all['loser_name'] == player_a)\n",
    "        ]\n",
    "        \n",
    "        for _ in range(len(df_tmp)):\n",
    "            LW.append([dic_target_player[player_a], dic_target_player[player_b]])\n",
    "LW = np.array(LW, dtype=np.int32)\n",
    "print(LW)"
   ]
  },
  {
   "cell_type": "code",
   "execution_count": 9,
   "metadata": {},
   "outputs": [
    {
     "name": "stdout",
     "output_type": "stream",
     "text": [
      "4266\n"
     ]
    }
   ],
   "source": [
    "print(len(LW))"
   ]
  },
  {
   "cell_type": "code",
   "execution_count": null,
   "metadata": {},
   "outputs": [
    {
     "name": "stderr",
     "output_type": "stream",
     "text": [
      "WARNING:pystan:DeprecationWarning: pystan.stan was deprecated in version 2.17 and will be removed in version 3.0. Compile and use a Stan program in separate steps.\n"
     ]
    },
    {
     "name": "stdout",
     "output_type": "stream",
     "text": [
      "aaa\n"
     ]
    },
    {
     "name": "stderr",
     "output_type": "stream",
     "text": [
      "INFO:pystan:COMPILING THE C++ CODE FOR MODEL anon_model_7c1c9dfca0646a97ed5b69abfb21b1ef NOW.\n"
     ]
    }
   ],
   "source": [
    "import pystan\n",
    "print(\"aaa\")\n",
    "\n",
    "stan_data = {'N':  len(dic_target_player), 'G':len(LW),  'LW': LW}\n",
    "# fit1 = pystan.stan(file='./mcmc.stan',data=stan_data, iter=1000, chains=4, thin=1)\n",
    "# la1 = fit1.extract()\n",
    "# fit1"
   ]
  },
  {
   "cell_type": "code",
   "execution_count": null,
   "metadata": {},
   "outputs": [],
   "source": [
    "! gcc --version"
   ]
  },
  {
   "cell_type": "code",
   "execution_count": null,
   "metadata": {},
   "outputs": [],
   "source": []
  },
  {
   "cell_type": "code",
   "execution_count": null,
   "metadata": {},
   "outputs": [],
   "source": []
  },
  {
   "cell_type": "code",
   "execution_count": null,
   "metadata": {},
   "outputs": [],
   "source": []
  },
  {
   "cell_type": "code",
   "execution_count": null,
   "metadata": {},
   "outputs": [],
   "source": []
  }
 ],
 "metadata": {
  "kernelspec": {
   "display_name": "Python 3",
   "language": "python",
   "name": "python3"
  },
  "language_info": {
   "codemirror_mode": {
    "name": "ipython",
    "version": 3
   },
   "file_extension": ".py",
   "mimetype": "text/x-python",
   "name": "python",
   "nbconvert_exporter": "python",
   "pygments_lexer": "ipython3",
   "version": "3.6.10"
  }
 },
 "nbformat": 4,
 "nbformat_minor": 2
}
